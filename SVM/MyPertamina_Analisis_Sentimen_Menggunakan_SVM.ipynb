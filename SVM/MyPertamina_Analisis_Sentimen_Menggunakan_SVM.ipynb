{
  "cells": [
    {
      "cell_type": "code",
      "execution_count": null,
      "metadata": {
        "id": "THT21jhKq3ZB"
      },
      "outputs": [],
      "source": [
        "import pandas as pd\n",
        "import numpy as np\n",
        "import re"
      ]
    },
    {
      "cell_type": "code",
      "execution_count": null,
      "metadata": {
        "id": "X2yBy6OqrZI3",
        "colab": {
          "base_uri": "https://localhost:8080/",
          "height": 206
        },
        "outputId": "83001b4c-691c-427a-e9ce-60af85bd553a"
      },
      "outputs": [
        {
          "output_type": "execute_result",
          "data": {
            "text/plain": [
              "           pubdate         author  \\\n",
              "0  10/5/2022 22:43     pickyboboo   \n",
              "1  10/5/2022 21:46      sat33ayam   \n",
              "2  10/5/2022 21:44      icesburst   \n",
              "3  10/5/2022 21:32  blackathens11   \n",
              "4  10/5/2022 21:31      depok_pos   \n",
              "\n",
              "                                               title    label  \n",
              "0  RT @CNNIndonesia: Renjun NCT Dream Cicipi Catw...   netral  \n",
              "1  @ters4ngkut Selamat eenya pernah menyentuh klo...  positif  \n",
              "2          @shaiIyn @ouraass citayam mah di sudirman   netral  \n",
              "3  @CommuterLine Saya gatau pastinya, ini KRL men...   netral  \n",
              "4  Citayam Fashion Week, Kebebasan atau Kebablasa...  positif  "
            ],
            "text/html": [
              "\n",
              "  <div id=\"df-c619a915-77bb-4c2a-8609-1e0e8d9724a6\">\n",
              "    <div class=\"colab-df-container\">\n",
              "      <div>\n",
              "<style scoped>\n",
              "    .dataframe tbody tr th:only-of-type {\n",
              "        vertical-align: middle;\n",
              "    }\n",
              "\n",
              "    .dataframe tbody tr th {\n",
              "        vertical-align: top;\n",
              "    }\n",
              "\n",
              "    .dataframe thead th {\n",
              "        text-align: right;\n",
              "    }\n",
              "</style>\n",
              "<table border=\"1\" class=\"dataframe\">\n",
              "  <thead>\n",
              "    <tr style=\"text-align: right;\">\n",
              "      <th></th>\n",
              "      <th>pubdate</th>\n",
              "      <th>author</th>\n",
              "      <th>title</th>\n",
              "      <th>label</th>\n",
              "    </tr>\n",
              "  </thead>\n",
              "  <tbody>\n",
              "    <tr>\n",
              "      <th>0</th>\n",
              "      <td>10/5/2022 22:43</td>\n",
              "      <td>pickyboboo</td>\n",
              "      <td>RT @CNNIndonesia: Renjun NCT Dream Cicipi Catw...</td>\n",
              "      <td>netral</td>\n",
              "    </tr>\n",
              "    <tr>\n",
              "      <th>1</th>\n",
              "      <td>10/5/2022 21:46</td>\n",
              "      <td>sat33ayam</td>\n",
              "      <td>@ters4ngkut Selamat eenya pernah menyentuh klo...</td>\n",
              "      <td>positif</td>\n",
              "    </tr>\n",
              "    <tr>\n",
              "      <th>2</th>\n",
              "      <td>10/5/2022 21:44</td>\n",
              "      <td>icesburst</td>\n",
              "      <td>@shaiIyn @ouraass citayam mah di sudirman</td>\n",
              "      <td>netral</td>\n",
              "    </tr>\n",
              "    <tr>\n",
              "      <th>3</th>\n",
              "      <td>10/5/2022 21:32</td>\n",
              "      <td>blackathens11</td>\n",
              "      <td>@CommuterLine Saya gatau pastinya, ini KRL men...</td>\n",
              "      <td>netral</td>\n",
              "    </tr>\n",
              "    <tr>\n",
              "      <th>4</th>\n",
              "      <td>10/5/2022 21:31</td>\n",
              "      <td>depok_pos</td>\n",
              "      <td>Citayam Fashion Week, Kebebasan atau Kebablasa...</td>\n",
              "      <td>positif</td>\n",
              "    </tr>\n",
              "  </tbody>\n",
              "</table>\n",
              "</div>\n",
              "      <button class=\"colab-df-convert\" onclick=\"convertToInteractive('df-c619a915-77bb-4c2a-8609-1e0e8d9724a6')\"\n",
              "              title=\"Convert this dataframe to an interactive table.\"\n",
              "              style=\"display:none;\">\n",
              "        \n",
              "  <svg xmlns=\"http://www.w3.org/2000/svg\" height=\"24px\"viewBox=\"0 0 24 24\"\n",
              "       width=\"24px\">\n",
              "    <path d=\"M0 0h24v24H0V0z\" fill=\"none\"/>\n",
              "    <path d=\"M18.56 5.44l.94 2.06.94-2.06 2.06-.94-2.06-.94-.94-2.06-.94 2.06-2.06.94zm-11 1L8.5 8.5l.94-2.06 2.06-.94-2.06-.94L8.5 2.5l-.94 2.06-2.06.94zm10 10l.94 2.06.94-2.06 2.06-.94-2.06-.94-.94-2.06-.94 2.06-2.06.94z\"/><path d=\"M17.41 7.96l-1.37-1.37c-.4-.4-.92-.59-1.43-.59-.52 0-1.04.2-1.43.59L10.3 9.45l-7.72 7.72c-.78.78-.78 2.05 0 2.83L4 21.41c.39.39.9.59 1.41.59.51 0 1.02-.2 1.41-.59l7.78-7.78 2.81-2.81c.8-.78.8-2.07 0-2.86zM5.41 20L4 18.59l7.72-7.72 1.47 1.35L5.41 20z\"/>\n",
              "  </svg>\n",
              "      </button>\n",
              "      \n",
              "  <style>\n",
              "    .colab-df-container {\n",
              "      display:flex;\n",
              "      flex-wrap:wrap;\n",
              "      gap: 12px;\n",
              "    }\n",
              "\n",
              "    .colab-df-convert {\n",
              "      background-color: #E8F0FE;\n",
              "      border: none;\n",
              "      border-radius: 50%;\n",
              "      cursor: pointer;\n",
              "      display: none;\n",
              "      fill: #1967D2;\n",
              "      height: 32px;\n",
              "      padding: 0 0 0 0;\n",
              "      width: 32px;\n",
              "    }\n",
              "\n",
              "    .colab-df-convert:hover {\n",
              "      background-color: #E2EBFA;\n",
              "      box-shadow: 0px 1px 2px rgba(60, 64, 67, 0.3), 0px 1px 3px 1px rgba(60, 64, 67, 0.15);\n",
              "      fill: #174EA6;\n",
              "    }\n",
              "\n",
              "    [theme=dark] .colab-df-convert {\n",
              "      background-color: #3B4455;\n",
              "      fill: #D2E3FC;\n",
              "    }\n",
              "\n",
              "    [theme=dark] .colab-df-convert:hover {\n",
              "      background-color: #434B5C;\n",
              "      box-shadow: 0px 1px 3px 1px rgba(0, 0, 0, 0.15);\n",
              "      filter: drop-shadow(0px 1px 2px rgba(0, 0, 0, 0.3));\n",
              "      fill: #FFFFFF;\n",
              "    }\n",
              "  </style>\n",
              "\n",
              "      <script>\n",
              "        const buttonEl =\n",
              "          document.querySelector('#df-c619a915-77bb-4c2a-8609-1e0e8d9724a6 button.colab-df-convert');\n",
              "        buttonEl.style.display =\n",
              "          google.colab.kernel.accessAllowed ? 'block' : 'none';\n",
              "\n",
              "        async function convertToInteractive(key) {\n",
              "          const element = document.querySelector('#df-c619a915-77bb-4c2a-8609-1e0e8d9724a6');\n",
              "          const dataTable =\n",
              "            await google.colab.kernel.invokeFunction('convertToInteractive',\n",
              "                                                     [key], {});\n",
              "          if (!dataTable) return;\n",
              "\n",
              "          const docLinkHtml = 'Like what you see? Visit the ' +\n",
              "            '<a target=\"_blank\" href=https://colab.research.google.com/notebooks/data_table.ipynb>data table notebook</a>'\n",
              "            + ' to learn more about interactive tables.';\n",
              "          element.innerHTML = '';\n",
              "          dataTable['output_type'] = 'display_data';\n",
              "          await google.colab.output.renderOutput(dataTable, element);\n",
              "          const docLink = document.createElement('div');\n",
              "          docLink.innerHTML = docLinkHtml;\n",
              "          element.appendChild(docLink);\n",
              "        }\n",
              "      </script>\n",
              "    </div>\n",
              "  </div>\n",
              "  "
            ]
          },
          "metadata": {},
          "execution_count": 2
        }
      ],
      "source": [
        "dfuji = pd.read_csv(\"/content/labeling_cfw.csv\")\n",
        "dfuji.head()\n",
        "\n",
        "\n"
      ]
    },
    {
      "cell_type": "code",
      "execution_count": null,
      "metadata": {
        "colab": {
          "base_uri": "https://localhost:8080/",
          "height": 297
        },
        "id": "NlzBGRgireEY",
        "outputId": "0c7fc3bd-9b64-4e1b-909a-c0619e34f0c3"
      },
      "outputs": [
        {
          "output_type": "execute_result",
          "data": {
            "text/plain": [
              "<matplotlib.axes._subplots.AxesSubplot at 0x7f905f2e9210>"
            ]
          },
          "metadata": {},
          "execution_count": 3
        },
        {
          "output_type": "display_data",
          "data": {
            "text/plain": [
              "<Figure size 432x288 with 1 Axes>"
            ],
            "image/png": "[encoded data removed]"
          },
          "metadata": {
            "needs_background": "light"
          }
        }
      ],
      "source": [
        "import seaborn as sns\n",
        "sns.countplot(x=\"label\", data=dfuji,)"
      ]
    },
    {
      "cell_type": "code",
      "execution_count": null,
      "metadata": {
        "colab": {
          "base_uri": "https://localhost:8080/"
        },
        "id": "Yd8v1kKL7TyP",
        "outputId": "fbe4efe4-732a-4e45-d74d-f4611ba745cb"
      },
      "outputs": [
        {
          "output_type": "execute_result",
          "data": {
            "text/plain": [
              "<bound method DataFrame.info of               pubdate           author  \\\n",
              "0     10/5/2022 22:43       pickyboboo   \n",
              "1     10/5/2022 21:46        sat33ayam   \n",
              "2     10/5/2022 21:44        icesburst   \n",
              "3     10/5/2022 21:32    blackathens11   \n",
              "4     10/5/2022 21:31        depok_pos   \n",
              "...               ...              ...   \n",
              "2303   9/28/2022 2:31        FOOD_FESS   \n",
              "2304   9/28/2022 1:57  abcdefghi__ding   \n",
              "2305   9/28/2022 1:49       fIamingurl   \n",
              "2306   9/28/2022 1:22       detikforum   \n",
              "2307   9/28/2022 0:34          jawapos   \n",
              "\n",
              "                                                  title    label  \n",
              "0     RT @CNNIndonesia: Renjun NCT Dream Cicipi Catw...   netral  \n",
              "1     @ters4ngkut Selamat eenya pernah menyentuh klo...  positif  \n",
              "2             @shaiIyn @ouraass citayam mah di sudirman   netral  \n",
              "3     @CommuterLine Saya gatau pastinya, ini KRL men...   netral  \n",
              "4     Citayam Fashion Week, Kebebasan atau Kebablasa...  positif  \n",
              "...                                                 ...      ...  \n",
              "2303  Guis doain yaa jualan sender laris hari ini, i...   netral  \n",
              "2304  @pemvuda @YAOIBASERP Mamah aku kan lagi trip k...   netral  \n",
              "2305         bonkers of citayam https://t.co/tyfcOspRpP   netral  \n",
              "2306  Nasib Roy dan Ale Citayam Usai CFW Bubar https...  positif  \n",
              "2307  Jeje Slebew Akhirnya Akui hubungannya dengan R...   netral  \n",
              "\n",
              "[2308 rows x 4 columns]>"
            ]
          },
          "metadata": {},
          "execution_count": 4
        }
      ],
      "source": [
        "dfuji.info\n"
      ]
    },
    {
      "cell_type": "code",
      "execution_count": null,
      "metadata": {
        "colab": {
          "base_uri": "https://localhost:8080/",
          "height": 424
        },
        "id": "2aPDoM9ZbYw5",
        "outputId": "bf959913-ef2d-4174-d48a-297fba4b14a3"
      },
      "outputs": [
        {
          "output_type": "execute_result",
          "data": {
            "text/plain": [
              "              pubdate           author  \\\n",
              "0     10/5/2022 22:43       pickyboboo   \n",
              "1     10/5/2022 21:46        sat33ayam   \n",
              "2     10/5/2022 21:44        icesburst   \n",
              "3     10/5/2022 21:32    blackathens11   \n",
              "4     10/5/2022 21:31        depok_pos   \n",
              "...               ...              ...   \n",
              "2303   9/28/2022 2:31        FOOD_FESS   \n",
              "2304   9/28/2022 1:57  abcdefghi__ding   \n",
              "2305   9/28/2022 1:49       fIamingurl   \n",
              "2306   9/28/2022 1:22       detikforum   \n",
              "2307   9/28/2022 0:34          jawapos   \n",
              "\n",
              "                                                  title    label  \n",
              "0     RT @CNNIndonesia: Renjun NCT Dream Cicipi Catw...   netral  \n",
              "1     @ters4ngkut Selamat eenya pernah menyentuh klo...  positif  \n",
              "2             @shaiIyn @ouraass citayam mah di sudirman   netral  \n",
              "3     @CommuterLine Saya gatau pastinya, ini KRL men...   netral  \n",
              "4     Citayam Fashion Week, Kebebasan atau Kebablasa...  positif  \n",
              "...                                                 ...      ...  \n",
              "2303  Guis doain yaa jualan sender laris hari ini, i...   netral  \n",
              "2304  @pemvuda @YAOIBASERP Mamah aku kan lagi trip k...   netral  \n",
              "2305         bonkers of citayam https://t.co/tyfcOspRpP   netral  \n",
              "2306  Nasib Roy dan Ale Citayam Usai CFW Bubar https...  positif  \n",
              "2307  Jeje Slebew Akhirnya Akui hubungannya dengan R...   netral  \n",
              "\n",
              "[2308 rows x 4 columns]"
            ],
            "text/html": [
              "\n",
              "  <div id=\"df-a8a4b893-5b32-4244-b97a-566261177b44\">\n",
              "    <div class=\"colab-df-container\">\n",
              "      <div>\n",
              "<style scoped>\n",
              "    .dataframe tbody tr th:only-of-type {\n",
              "        vertical-align: middle;\n",
              "    }\n",
              "\n",
              "    .dataframe tbody tr th {\n",
              "        vertical-align: top;\n",
              "    }\n",
              "\n",
              "    .dataframe thead th {\n",
              "        text-align: right;\n",
              "    }\n",
              "</style>\n",
              "<table border=\"1\" class=\"dataframe\">\n",
              "  <thead>\n",
              "    <tr style=\"text-align: right;\">\n",
              "      <th></th>\n",
              "      <th>pubdate</th>\n",
              "      <th>author</th>\n",
              "      <th>title</th>\n",
              "      <th>label</th>\n",
              "    </tr>\n",
              "  </thead>\n",
              "  <tbody>\n",
              "    <tr>\n",
              "      <th>0</th>\n",
              "      <td>10/5/2022 22:43</td>\n",
              "      <td>pickyboboo</td>\n",
              "      <td>RT @CNNIndonesia: Renjun NCT Dream Cicipi Catw...</td>\n",
              "      <td>netral</td>\n",
              "    </tr>\n",
              "    <tr>\n",
              "      <th>1</th>\n",
              "      <td>10/5/2022 21:46</td>\n",
              "      <td>sat33ayam</td>\n",
              "      <td>@ters4ngkut Selamat eenya pernah menyentuh klo...</td>\n",
              "      <td>positif</td>\n",
              "    </tr>\n",
              "    <tr>\n",
              "      <th>2</th>\n",
              "      <td>10/5/2022 21:44</td>\n",
              "      <td>icesburst</td>\n",
              "      <td>@shaiIyn @ouraass citayam mah di sudirman</td>\n",
              "      <td>netral</td>\n",
              "    </tr>\n",
              "    <tr>\n",
              "      <th>3</th>\n",
              "      <td>10/5/2022 21:32</td>\n",
              "      <td>blackathens11</td>\n",
              "      <td>@CommuterLine Saya gatau pastinya, ini KRL men...</td>\n",
              "      <td>netral</td>\n",
              "    </tr>\n",
              "    <tr>\n",
              "      <th>4</th>\n",
              "      <td>10/5/2022 21:31</td>\n",
              "      <td>depok_pos</td>\n",
              "      <td>Citayam Fashion Week, Kebebasan atau Kebablasa...</td>\n",
              "      <td>positif</td>\n",
              "    </tr>\n",
              "    <tr>\n",
              "      <th>...</th>\n",
              "      <td>...</td>\n",
              "      <td>...</td>\n",
              "      <td>...</td>\n",
              "      <td>...</td>\n",
              "    </tr>\n",
              "    <tr>\n",
              "      <th>2303</th>\n",
              "      <td>9/28/2022 2:31</td>\n",
              "      <td>FOOD_FESS</td>\n",
              "      <td>Guis doain yaa jualan sender laris hari ini, i...</td>\n",
              "      <td>netral</td>\n",
              "    </tr>\n",
              "    <tr>\n",
              "      <th>2304</th>\n",
              "      <td>9/28/2022 1:57</td>\n",
              "      <td>abcdefghi__ding</td>\n",
              "      <td>@pemvuda @YAOIBASERP Mamah aku kan lagi trip k...</td>\n",
              "      <td>netral</td>\n",
              "    </tr>\n",
              "    <tr>\n",
              "      <th>2305</th>\n",
              "      <td>9/28/2022 1:49</td>\n",
              "      <td>fIamingurl</td>\n",
              "      <td>bonkers of citayam https://t.co/tyfcOspRpP</td>\n",
              "      <td>netral</td>\n",
              "    </tr>\n",
              "    <tr>\n",
              "      <th>2306</th>\n",
              "      <td>9/28/2022 1:22</td>\n",
              "      <td>detikforum</td>\n",
              "      <td>Nasib Roy dan Ale Citayam Usai CFW Bubar https...</td>\n",
              "      <td>positif</td>\n",
              "    </tr>\n",
              "    <tr>\n",
              "      <th>2307</th>\n",
              "      <td>9/28/2022 0:34</td>\n",
              "      <td>jawapos</td>\n",
              "      <td>Jeje Slebew Akhirnya Akui hubungannya dengan R...</td>\n",
              "      <td>netral</td>\n",
              "    </tr>\n",
              "  </tbody>\n",
              "</table>\n",
              "<p>2308 rows × 4 columns</p>\n",
              "</div>\n",
              "      <button class=\"colab-df-convert\" onclick=\"convertToInteractive('df-a8a4b893-5b32-4244-b97a-566261177b44')\"\n",
              "              title=\"Convert this dataframe to an interactive table.\"\n",
              "              style=\"display:none;\">\n",
              "        \n",
              "  <svg xmlns=\"http://www.w3.org/2000/svg\" height=\"24px\"viewBox=\"0 0 24 24\"\n",
              "       width=\"24px\">\n",
              "    <path d=\"M0 0h24v24H0V0z\" fill=\"none\"/>\n",
              "    <path d=\"M18.56 5.44l.94 2.06.94-2.06 2.06-.94-2.06-.94-.94-2.06-.94 2.06-2.06.94zm-11 1L8.5 8.5l.94-2.06 2.06-.94-2.06-.94L8.5 2.5l-.94 2.06-2.06.94zm10 10l.94 2.06.94-2.06 2.06-.94-2.06-.94-.94-2.06-.94 2.06-2.06.94z\"/><path d=\"M17.41 7.96l-1.37-1.37c-.4-.4-.92-.59-1.43-.59-.52 0-1.04.2-1.43.59L10.3 9.45l-7.72 7.72c-.78.78-.78 2.05 0 2.83L4 21.41c.39.39.9.59 1.41.59.51 0 1.02-.2 1.41-.59l7.78-7.78 2.81-2.81c.8-.78.8-2.07 0-2.86zM5.41 20L4 18.59l7.72-7.72 1.47 1.35L5.41 20z\"/>\n",
              "  </svg>\n",
              "      </button>\n",
              "      \n",
              "  <style>\n",
              "    .colab-df-container {\n",
              "      display:flex;\n",
              "      flex-wrap:wrap;\n",
              "      gap: 12px;\n",
              "    }\n",
              "\n",
              "    .colab-df-convert {\n",
              "      background-color: #E8F0FE;\n",
              "      border: none;\n",
              "      border-radius: 50%;\n",
              "      cursor: pointer;\n",
              "      display: none;\n",
              "      fill: #1967D2;\n",
              "      height: 32px;\n",
              "      padding: 0 0 0 0;\n",
              "      width: 32px;\n",
              "    }\n",
              "\n",
              "    .colab-df-convert:hover {\n",
              "      background-color: #E2EBFA;\n",
              "      box-shadow: 0px 1px 2px rgba(60, 64, 67, 0.3), 0px 1px 3px 1px rgba(60, 64, 67, 0.15);\n",
              "      fill: #174EA6;\n",
              "    }\n",
              "\n",
              "    [theme=dark] .colab-df-convert {\n",
              "      background-color: #3B4455;\n",
              "      fill: #D2E3FC;\n",
              "    }\n",
              "\n",
              "    [theme=dark] .colab-df-convert:hover {\n",
              "      background-color: #434B5C;\n",
              "      box-shadow: 0px 1px 3px 1px rgba(0, 0, 0, 0.15);\n",
              "      filter: drop-shadow(0px 1px 2px rgba(0, 0, 0, 0.3));\n",
              "      fill: #FFFFFF;\n",
              "    }\n",
              "  </style>\n",
              "\n",
              "      <script>\n",
              "        const buttonEl =\n",
              "          document.querySelector('#df-a8a4b893-5b32-4244-b97a-566261177b44 button.colab-df-convert');\n",
              "        buttonEl.style.display =\n",
              "          google.colab.kernel.accessAllowed ? 'block' : 'none';\n",
              "\n",
              "        async function convertToInteractive(key) {\n",
              "          const element = document.querySelector('#df-a8a4b893-5b32-4244-b97a-566261177b44');\n",
              "          const dataTable =\n",
              "            await google.colab.kernel.invokeFunction('convertToInteractive',\n",
              "                                                     [key], {});\n",
              "          if (!dataTable) return;\n",
              "\n",
              "          const docLinkHtml = 'Like what you see? Visit the ' +\n",
              "            '<a target=\"_blank\" href=https://colab.research.google.com/notebooks/data_table.ipynb>data table notebook</a>'\n",
              "            + ' to learn more about interactive tables.';\n",
              "          element.innerHTML = '';\n",
              "          dataTable['output_type'] = 'display_data';\n",
              "          await google.colab.output.renderOutput(dataTable, element);\n",
              "          const docLink = document.createElement('div');\n",
              "          docLink.innerHTML = docLinkHtml;\n",
              "          element.appendChild(docLink);\n",
              "        }\n",
              "      </script>\n",
              "    </div>\n",
              "  </div>\n",
              "  "
            ]
          },
          "metadata": {},
          "execution_count": 5
        }
      ],
      "source": [
        "dfuji.dropna()"
      ]
    },
    {
      "cell_type": "code",
      "execution_count": null,
      "metadata": {
        "colab": {
          "base_uri": "https://localhost:8080/"
        },
        "id": "e8fLSCko7gxD",
        "outputId": "6fee1668-76ad-4f80-92ce-2e17f87f5db1"
      },
      "outputs": [
        {
          "output_type": "stream",
          "name": "stdout",
          "text": [
            "Looking in indexes: https://pypi.org/simple, https://us-python.pkg.dev/colab-wheels/public/simple/\n",
            "Requirement already satisfied: sastrawi in /usr/local/lib/python3.7/dist-packages (1.0.1)\n"
          ]
        }
      ],
      "source": [
        "pip install sastrawi"
      ]
    },
    {
      "cell_type": "code",
      "execution_count": null,
      "metadata": {
        "id": "sB2uPw687hf7"
      },
      "outputs": [],
      "source": [
        "from Sastrawi.Stemmer.StemmerFactory import StemmerFactory\n",
        "factory = StemmerFactory()\n",
        "stemmer = factory.create_stemmer()"
      ]
    },
    {
      "cell_type": "code",
      "execution_count": null,
      "metadata": {
        "id": "xhbwo1rJ7nxq"
      },
      "outputs": [],
      "source": [
        "#simpan kata-kata stopword\n",
        "\n",
        "f = open(\"stopword_list_tala.txt\", \"r\")\n",
        "isi = f.read()\n",
        "\n",
        "tempStoplist = []\n",
        "for tempstp in isi.split():\n",
        "  tempStoplist.append(tempstp.lower())"
      ]
    },
    {
      "cell_type": "code",
      "execution_count": null,
      "metadata": {
        "id": "eHybCxLu7r8G"
      },
      "outputs": [],
      "source": [
        "cleantext = \"(@[A-Za-z0-9_-]+)|([^A-Za-z \\t\\n])|(\\w+:\\/\\/\\S+)|(x[A-Za-z0-9]+)|(X[A-Za-z0-9]+)\" #regex untuk remove punctuation\n",
        "\n",
        "def preprocessing(teks):\n",
        "  teks = teks.rstrip(\"\\n\")\n",
        "  teks = re.sub(r'^https?:\\/\\/.*[\\r\\n]*', '', teks, flags=re.MULTILINE)\n",
        "  teks = re.sub(cleantext,' ',str(teks).lower()).strip() #casefolding dan remove punctuation\n",
        " # teks = re.sub(r'[0-9]+', '', teks, flags=re.MULTILINE)\n",
        "  tokens = []\n",
        "  for token in teks.split():\n",
        "    #if token in templist:\n",
        "    if token not in tempStoplist: #jika token tidak di stopword maka simpan\n",
        "      token = stemmer.stem(token) #lakukan stemming\n",
        "      if len(token) >= 2:\n",
        "     #if token != 'b':\n",
        "       if token != 'rt':\n",
        "        tokens.append(token)\n",
        "  return \" \".join(tokens)"
      ]
    },
    {
      "cell_type": "code",
      "execution_count": null,
      "metadata": {
        "colab": {
          "base_uri": "https://localhost:8080/",
          "height": 206
        },
        "id": "hP-2vFPT7vK1",
        "outputId": "01991549-49c0-4c17-c725-013e6299d33a"
      },
      "outputs": [
        {
          "output_type": "execute_result",
          "data": {
            "text/plain": [
              "           pubdate         author  \\\n",
              "0  10/5/2022 22:43     pickyboboo   \n",
              "1  10/5/2022 21:46      sat33ayam   \n",
              "2  10/5/2022 21:44      icesburst   \n",
              "3  10/5/2022 21:32  blackathens11   \n",
              "4  10/5/2022 21:31      depok_pos   \n",
              "\n",
              "                                               title    label  \\\n",
              "0  RT @CNNIndonesia: Renjun NCT Dream Cicipi Catw...   netral   \n",
              "1  @ters4ngkut Selamat eenya pernah menyentuh klo...  positif   \n",
              "2          @shaiIyn @ouraass citayam mah di sudirman   netral   \n",
              "3  @CommuterLine Saya gatau pastinya, ini KRL men...   netral   \n",
              "4  Citayam Fashion Week, Kebebasan atau Kebablasa...  positif   \n",
              "\n",
              "                                          Teksbersih  \n",
              "0  renjun nct dream cicip catwalk citayam fashion...  \n",
              "1                selamat eenya sentuh kloset citayam  \n",
              "2                               citayam mah sudirman  \n",
              "3  gatau pasti krl bogor sekitar jam nyampe st ci...  \n",
              "4          citayam fashion week bebas bablas ekspres  "
            ],
            "text/html": [
              "\n",
              "  <div id=\"df-e2ad2c71-94a5-4c0e-b85a-3f55ada4bfd8\">\n",
              "    <div class=\"colab-df-container\">\n",
              "      <div>\n",
              "<style scoped>\n",
              "    .dataframe tbody tr th:only-of-type {\n",
              "        vertical-align: middle;\n",
              "    }\n",
              "\n",
              "    .dataframe tbody tr th {\n",
              "        vertical-align: top;\n",
              "    }\n",
              "\n",
              "    .dataframe thead th {\n",
              "        text-align: right;\n",
              "    }\n",
              "</style>\n",
              "<table border=\"1\" class=\"dataframe\">\n",
              "  <thead>\n",
              "    <tr style=\"text-align: right;\">\n",
              "      <th></th>\n",
              "      <th>pubdate</th>\n",
              "      <th>author</th>\n",
              "      <th>title</th>\n",
              "      <th>label</th>\n",
              "      <th>Teksbersih</th>\n",
              "    </tr>\n",
              "  </thead>\n",
              "  <tbody>\n",
              "    <tr>\n",
              "      <th>0</th>\n",
              "      <td>10/5/2022 22:43</td>\n",
              "      <td>pickyboboo</td>\n",
              "      <td>RT @CNNIndonesia: Renjun NCT Dream Cicipi Catw...</td>\n",
              "      <td>netral</td>\n",
              "      <td>renjun nct dream cicip catwalk citayam fashion...</td>\n",
              "    </tr>\n",
              "    <tr>\n",
              "      <th>1</th>\n",
              "      <td>10/5/2022 21:46</td>\n",
              "      <td>sat33ayam</td>\n",
              "      <td>@ters4ngkut Selamat eenya pernah menyentuh klo...</td>\n",
              "      <td>positif</td>\n",
              "      <td>selamat eenya sentuh kloset citayam</td>\n",
              "    </tr>\n",
              "    <tr>\n",
              "      <th>2</th>\n",
              "      <td>10/5/2022 21:44</td>\n",
              "      <td>icesburst</td>\n",
              "      <td>@shaiIyn @ouraass citayam mah di sudirman</td>\n",
              "      <td>netral</td>\n",
              "      <td>citayam mah sudirman</td>\n",
              "    </tr>\n",
              "    <tr>\n",
              "      <th>3</th>\n",
              "      <td>10/5/2022 21:32</td>\n",
              "      <td>blackathens11</td>\n",
              "      <td>@CommuterLine Saya gatau pastinya, ini KRL men...</td>\n",
              "      <td>netral</td>\n",
              "      <td>gatau pasti krl bogor sekitar jam nyampe st ci...</td>\n",
              "    </tr>\n",
              "    <tr>\n",
              "      <th>4</th>\n",
              "      <td>10/5/2022 21:31</td>\n",
              "      <td>depok_pos</td>\n",
              "      <td>Citayam Fashion Week, Kebebasan atau Kebablasa...</td>\n",
              "      <td>positif</td>\n",
              "      <td>citayam fashion week bebas bablas ekspres</td>\n",
              "    </tr>\n",
              "  </tbody>\n",
              "</table>\n",
              "</div>\n",
              "      <button class=\"colab-df-convert\" onclick=\"convertToInteractive('df-e2ad2c71-94a5-4c0e-b85a-3f55ada4bfd8')\"\n",
              "              title=\"Convert this dataframe to an interactive table.\"\n",
              "              style=\"display:none;\">\n",
              "        \n",
              "  <svg xmlns=\"http://www.w3.org/2000/svg\" height=\"24px\"viewBox=\"0 0 24 24\"\n",
              "       width=\"24px\">\n",
              "    <path d=\"M0 0h24v24H0V0z\" fill=\"none\"/>\n",
              "    <path d=\"M18.56 5.44l.94 2.06.94-2.06 2.06-.94-2.06-.94-.94-2.06-.94 2.06-2.06.94zm-11 1L8.5 8.5l.94-2.06 2.06-.94-2.06-.94L8.5 2.5l-.94 2.06-2.06.94zm10 10l.94 2.06.94-2.06 2.06-.94-2.06-.94-.94-2.06-.94 2.06-2.06.94z\"/><path d=\"M17.41 7.96l-1.37-1.37c-.4-.4-.92-.59-1.43-.59-.52 0-1.04.2-1.43.59L10.3 9.45l-7.72 7.72c-.78.78-.78 2.05 0 2.83L4 21.41c.39.39.9.59 1.41.59.51 0 1.02-.2 1.41-.59l7.78-7.78 2.81-2.81c.8-.78.8-2.07 0-2.86zM5.41 20L4 18.59l7.72-7.72 1.47 1.35L5.41 20z\"/>\n",
              "  </svg>\n",
              "      </button>\n",
              "      \n",
              "  <style>\n",
              "    .colab-df-container {\n",
              "      display:flex;\n",
              "      flex-wrap:wrap;\n",
              "      gap: 12px;\n",
              "    }\n",
              "\n",
              "    .colab-df-convert {\n",
              "      background-color: #E8F0FE;\n",
              "      border: none;\n",
              "      border-radius: 50%;\n",
              "      cursor: pointer;\n",
              "      display: none;\n",
              "      fill: #1967D2;\n",
              "      height: 32px;\n",
              "      padding: 0 0 0 0;\n",
              "      width: 32px;\n",
              "    }\n",
              "\n",
              "    .colab-df-convert:hover {\n",
              "      background-color: #E2EBFA;\n",
              "      box-shadow: 0px 1px 2px rgba(60, 64, 67, 0.3), 0px 1px 3px 1px rgba(60, 64, 67, 0.15);\n",
              "      fill: #174EA6;\n",
              "    }\n",
              "\n",
              "    [theme=dark] .colab-df-convert {\n",
              "      background-color: #3B4455;\n",
              "      fill: #D2E3FC;\n",
              "    }\n",
              "\n",
              "    [theme=dark] .colab-df-convert:hover {\n",
              "      background-color: #434B5C;\n",
              "      box-shadow: 0px 1px 3px 1px rgba(0, 0, 0, 0.15);\n",
              "      filter: drop-shadow(0px 1px 2px rgba(0, 0, 0, 0.3));\n",
              "      fill: #FFFFFF;\n",
              "    }\n",
              "  </style>\n",
              "\n",
              "      <script>\n",
              "        const buttonEl =\n",
              "          document.querySelector('#df-e2ad2c71-94a5-4c0e-b85a-3f55ada4bfd8 button.colab-df-convert');\n",
              "        buttonEl.style.display =\n",
              "          google.colab.kernel.accessAllowed ? 'block' : 'none';\n",
              "\n",
              "        async function convertToInteractive(key) {\n",
              "          const element = document.querySelector('#df-e2ad2c71-94a5-4c0e-b85a-3f55ada4bfd8');\n",
              "          const dataTable =\n",
              "            await google.colab.kernel.invokeFunction('convertToInteractive',\n",
              "                                                     [key], {});\n",
              "          if (!dataTable) return;\n",
              "\n",
              "          const docLinkHtml = 'Like what you see? Visit the ' +\n",
              "            '<a target=\"_blank\" href=https://colab.research.google.com/notebooks/data_table.ipynb>data table notebook</a>'\n",
              "            + ' to learn more about interactive tables.';\n",
              "          element.innerHTML = '';\n",
              "          dataTable['output_type'] = 'display_data';\n",
              "          await google.colab.output.renderOutput(dataTable, element);\n",
              "          const docLink = document.createElement('div');\n",
              "          docLink.innerHTML = docLinkHtml;\n",
              "          element.appendChild(docLink);\n",
              "        }\n",
              "      </script>\n",
              "    </div>\n",
              "  </div>\n",
              "  "
            ]
          },
          "metadata": {},
          "execution_count": 10
        }
      ],
      "source": [
        "dfuji['Teksbersih'] = dfuji.title.apply(lambda x:preprocessing(x))\n",
        "dfuji.head()"
      ]
    },
    {
      "cell_type": "code",
      "execution_count": null,
      "metadata": {
        "id": "hXaI81Sq8B3H"
      },
      "outputs": [],
      "source": [
        "# dfuji.drop(['Teksbersih'],inplace=True,axis=1)\n",
        "# dfuji.head()"
      ]
    },
    {
      "cell_type": "code",
      "execution_count": null,
      "metadata": {
        "id": "NzNLew8Mpcny"
      },
      "outputs": [],
      "source": [
        "dfuji.to_csv('teksbersih_cfw.csv')"
      ]
    },
    {
      "cell_type": "code",
      "execution_count": null,
      "metadata": {
        "colab": {
          "base_uri": "https://localhost:8080/"
        },
        "id": "h60Lu0StsRtD",
        "outputId": "e883aefc-aeb7-4bb8-fa5c-f754365541f2"
      },
      "outputs": [
        {
          "output_type": "stream",
          "name": "stdout",
          "text": [
            "               author                                         Teksbersih\n",
            "0          pickyboboo  renjun nct dream cicip catwalk citayam fashion...\n",
            "1           sat33ayam                selamat eenya sentuh kloset citayam\n",
            "2           icesburst                               citayam mah sudirman\n",
            "3       blackathens11  gatau pasti krl bogor sekitar jam nyampe st ci...\n",
            "4           depok_pos          citayam fashion week bebas bablas ekspres\n",
            "...               ...                                                ...\n",
            "2303        FOOD_FESS  guis doain yaa jual sender laris udah adon dom...\n",
            "2304  abcdefghi__ding                            mamah trip citayam liat\n",
            "2305       fIamingurl                                 bonkers of citayam\n",
            "2306       detikforum  nasib roy ale citayam cfw bubar detikforum cfw...\n",
            "2307          jawapos         jeje slebew aku hubung roy citayam gimmick\n",
            "\n",
            "[2308 rows x 2 columns]\n"
          ]
        }
      ],
      "source": [
        "label_train = dfuji['label'].to_numpy()\n",
        "fitur_train = dfuji[['author','Teksbersih']]\n",
        "\n",
        "print(fitur_train)"
      ]
    },
    {
      "cell_type": "code",
      "execution_count": null,
      "metadata": {
        "id": "2QzgCJAcse-Q"
      },
      "outputs": [],
      "source": [
        "y = dfuji['label']\n",
        "x = dfuji['Teksbersih']"
      ]
    },
    {
      "cell_type": "code",
      "execution_count": null,
      "metadata": {
        "id": "C67E2Td6sxCS"
      },
      "outputs": [],
      "source": [
        "from sklearn.feature_extraction.text import TfidfVectorizer\n",
        "from  sklearn.feature_extraction.text  import  CountVectorizer\n",
        "\n",
        "#membangun vector space model/pembobotan dengan tfidf\n",
        "vectorizer = TfidfVectorizer()\n",
        "features = vectorizer.fit_transform(x)\n"
      ]
    },
    {
      "cell_type": "code",
      "execution_count": null,
      "metadata": {
        "id": "iDggtjagtP-r"
      },
      "outputs": [],
      "source": [
        "from sklearn.model_selection import  train_test_split\n",
        "x_train, x_test, y_train, y_test = train_test_split(features,y,test_size=0.2,random_state=2)"
      ]
    },
    {
      "cell_type": "code",
      "execution_count": null,
      "metadata": {
        "colab": {
          "base_uri": "https://localhost:8080/"
        },
        "id": "7QDJXzhTpbIv",
        "outputId": "f5c13fc5-7e0b-41be-b2c0-1a92c132c436"
      },
      "outputs": [
        {
          "output_type": "stream",
          "name": "stdout",
          "text": [
            "1845     netral\n",
            "748     negatif\n",
            "93      negatif\n",
            "263      netral\n",
            "1162     netral\n",
            "         ...   \n",
            "494      netral\n",
            "1558     netral\n",
            "530      netral\n",
            "1731     netral\n",
            "39       netral\n",
            "Name: label, Length: 462, dtype: object\n"
          ]
        }
      ],
      "source": [
        "print (y_test)"
      ]
    },
    {
      "cell_type": "markdown",
      "metadata": {
        "id": "QiDnIkqe8mtR"
      },
      "source": [
        "***SVM***\n"
      ]
    },
    {
      "cell_type": "code",
      "execution_count": null,
      "metadata": {
        "id": "pctUG4S1s_5X"
      },
      "outputs": [],
      "source": [
        "from sklearn import svm\n",
        "from  sklearn.svm  import  SVC\n",
        "clf_liner = svm.SVC(kernel='linear', C=1.5, random_state=42)\n",
        "clf_rbf = svm.SVC(kernel='rbf', C=1.5, random_state=42)\n",
        "clf_sigmoid = svm.SVC(kernel='sigmoid', C=1.5, random_state=42)\n",
        "clf_poly = svm.SVC(kernel='poly', C=1.5, random_state=42)"
      ]
    },
    {
      "cell_type": "code",
      "execution_count": null,
      "metadata": {
        "colab": {
          "base_uri": "https://localhost:8080/"
        },
        "id": "4ORL3ZbWsxp3",
        "outputId": "22433865-8885-4641-940d-7d883a61c71d"
      },
      "outputs": [
        {
          "output_type": "execute_result",
          "data": {
            "text/plain": [
              "SVC(C=1.5, kernel='poly', random_state=42)"
            ]
          },
          "metadata": {},
          "execution_count": 19
        }
      ],
      "source": [
        "clf_liner.fit(x_train,y_train)\n",
        "clf_rbf.fit(x_train,y_train)\n",
        "clf_sigmoid.fit(x_train,y_train)\n",
        "clf_poly.fit(x_train,y_train)"
      ]
    },
    {
      "cell_type": "code",
      "execution_count": null,
      "metadata": {
        "id": "Ct8_xZlL8siQ"
      },
      "outputs": [],
      "source": [
        "y_clf_linear = clf_liner.predict(x_test)\n",
        "y_clf_rbf = clf_rbf.predict(x_test)\n",
        "y_clf_sigmoid = clf_sigmoid.predict(x_test)\n",
        "y_clf_poly = clf_poly.predict(x_test)"
      ]
    },
    {
      "cell_type": "code",
      "execution_count": null,
      "metadata": {
        "colab": {
          "base_uri": "https://localhost:8080/"
        },
        "id": "kK3mhiKx8vhG",
        "outputId": "8f7bb113-cdb3-46ed-8c31-45f5fe7de7c2"
      },
      "outputs": [
        {
          "output_type": "stream",
          "name": "stdout",
          "text": [
            "evaluasi linear                precision    recall  f1-score   support\n",
            "\n",
            "     negatif       0.69      0.43      0.53        79\n",
            "      netral       0.80      0.95      0.87       326\n",
            "     positif       0.77      0.30      0.43        57\n",
            "\n",
            "    accuracy                           0.78       462\n",
            "   macro avg       0.75      0.56      0.61       462\n",
            "weighted avg       0.78      0.78      0.76       462\n",
            " \n",
            "\n",
            "evaluasi rbf                precision    recall  f1-score   support\n",
            "\n",
            "     negatif       0.68      0.24      0.36        79\n",
            "      netral       0.75      0.98      0.85       326\n",
            "     positif       0.83      0.18      0.29        57\n",
            "\n",
            "    accuracy                           0.75       462\n",
            "   macro avg       0.76      0.46      0.50       462\n",
            "weighted avg       0.75      0.75      0.70       462\n",
            " \n",
            "\n",
            "evaluasi sigmoid                precision    recall  f1-score   support\n",
            "\n",
            "     negatif       0.62      0.37      0.46        79\n",
            "      netral       0.78      0.95      0.85       326\n",
            "     positif       0.78      0.25      0.37        57\n",
            "\n",
            "    accuracy                           0.76       462\n",
            "   macro avg       0.72      0.52      0.56       462\n",
            "weighted avg       0.75      0.76      0.73       462\n",
            " \n",
            "\n",
            "evaluasi poly                precision    recall  f1-score   support\n",
            "\n",
            "     negatif       0.67      0.10      0.18        79\n",
            "      netral       0.73      0.99      0.84       326\n",
            "     positif       1.00      0.14      0.25        57\n",
            "\n",
            "    accuracy                           0.73       462\n",
            "   macro avg       0.80      0.41      0.42       462\n",
            "weighted avg       0.75      0.73      0.65       462\n",
            "\n"
          ]
        }
      ],
      "source": [
        "from sklearn.metrics import classification_report\n",
        "\n",
        "print(\"evaluasi linear \", classification_report(y_test, y_clf_linear),\"\\n\")\n",
        "print(\"evaluasi rbf \", classification_report(y_test, y_clf_rbf),\"\\n\")\n",
        "print(\"evaluasi sigmoid \", classification_report(y_test, y_clf_sigmoid),\"\\n\")\n",
        "print(\"evaluasi poly \", classification_report(y_test, y_clf_poly))"
      ]
    },
    {
      "cell_type": "code",
      "execution_count": null,
      "metadata": {
        "colab": {
          "base_uri": "https://localhost:8080/"
        },
        "id": "S33eau6KABSr",
        "outputId": "7e7c4507-1bf2-4a31-bb4a-d56eda93bddb"
      },
      "outputs": [
        {
          "output_type": "stream",
          "name": "stdout",
          "text": [
            "Training  accuracy  Score\t:   0.9674972914409534\n",
            "Vallidation  accuracy  Score\t:   0.7835497835497836\n",
            "              precision    recall  f1-score   support\n",
            "\n",
            "     negatif       0.43      0.69      0.53        49\n",
            "      netral       0.95      0.80      0.87       391\n",
            "     positif       0.30      0.77      0.43        22\n",
            "\n",
            "    accuracy                           0.78       462\n",
            "   macro avg       0.56      0.75      0.61       462\n",
            "weighted avg       0.87      0.78      0.81       462\n",
            "\n"
          ]
        }
      ],
      "source": [
        "from sklearn.metrics import accuracy_score\n",
        "x  =  vectorizer.fit_transform(dfuji.Teksbersih.values)\n",
        "y  =  dfuji.label.values\n",
        "\n",
        "svc  =  SVC()\n",
        "clfr  =  svm.SVC(kernel='linear',  C=1.5 ,random_state=42)\n",
        "\n",
        "svc.fit(x_train,  y_train)\n",
        "clfr.fit(x_train,  y_train)\n",
        "\n",
        "svc_prediction  =  svc.predict(x_test)\n",
        "clfrpred  =  clfr.predict(x_test)\n",
        "svc_accuracy  =  accuracy_score(y_test,svc_prediction)\n",
        "clfrakr  =  accuracy_score(y_test,  clfrpred)\n",
        "print(\"Training  accuracy  Score\t:  \",clfr.score(x_train,y_train))\n",
        "print(\"Vallidation  accuracy  Score\t:  \",clfrakr  )\n",
        "print(classification_report(clfrpred,y_test))"
      ]
    },
    {
      "cell_type": "code",
      "execution_count": null,
      "metadata": {
        "id": "hQ1MDr2lz6LR"
      },
      "outputs": [],
      "source": [
        "from sklearn.metrics import confusion_matrix\n",
        "import sklearn.metrics as metrics\n"
      ]
    },
    {
      "cell_type": "code",
      "execution_count": null,
      "metadata": {
        "colab": {
          "base_uri": "https://localhost:8080/"
        },
        "id": "FGgvSbV8nhB5",
        "outputId": "6503e87a-4f34-4b35-8b01-3566744e357e"
      },
      "outputs": [
        {
          "output_type": "execute_result",
          "data": {
            "text/plain": [
              "0.7835497835497836"
            ]
          },
          "metadata": {},
          "execution_count": 24
        }
      ],
      "source": [
        "conf = metrics.accuracy_score(y_test, clfrpred)\n",
        "conf\n"
      ]
    },
    {
      "cell_type": "code",
      "execution_count": null,
      "metadata": {
        "id": "MhtciCJKh9X1"
      },
      "outputs": [],
      "source": [
        "def get_confusion_matrix(y_true, y_pred):\n",
        "    n_classes = len(np.unique(y_true))\n",
        "    conf = np.zeros((n_classes, n_classes))\n",
        "    for actual, pred in zip(y_true, y_pred):\n",
        "        conf[int(actual)][int(pred)] += 1\n",
        "    return conf.astype('int')"
      ]
    },
    {
      "cell_type": "code",
      "execution_count": null,
      "metadata": {
        "id": "ONgjwtH1hwZ2"
      },
      "outputs": [],
      "source": [
        "import matplotlib.pyplot as plt\n",
        "import itertools"
      ]
    },
    {
      "cell_type": "code",
      "execution_count": null,
      "metadata": {
        "colab": {
          "base_uri": "https://localhost:8080/",
          "height": 647
        },
        "id": "s902QOL5hzWi",
        "outputId": "76155698-b98c-45eb-f45c-fcdcde78c98a"
      },
      "outputs": [
        {
          "output_type": "error",
          "ename": "TypeError",
          "evalue": "ignored",
          "traceback": [
            "\u001b[0;31m---------------------------------------------------------------------------\u001b[0m",
            "\u001b[0;31mTypeError\u001b[0m                                 Traceback (most recent call last)",
            "\u001b[0;32m<ipython-input-27-f2f0ac55e5b7>\u001b[0m in \u001b[0;36m<module>\u001b[0;34m\u001b[0m\n\u001b[1;32m      1\u001b[0m \u001b[0mclasses\u001b[0m \u001b[0;34m=\u001b[0m \u001b[0;34m[\u001b[0m\u001b[0;36m0\u001b[0m\u001b[0;34m,\u001b[0m\u001b[0;36m1\u001b[0m\u001b[0;34m,\u001b[0m\u001b[0;36m2\u001b[0m\u001b[0;34m]\u001b[0m\u001b[0;34m\u001b[0m\u001b[0;34m\u001b[0m\u001b[0m\n\u001b[1;32m      2\u001b[0m \u001b[0;31m# plot confusion matrix\u001b[0m\u001b[0;34m\u001b[0m\u001b[0;34m\u001b[0m\u001b[0;34m\u001b[0m\u001b[0m\n\u001b[0;32m----> 3\u001b[0;31m \u001b[0mplt\u001b[0m\u001b[0;34m.\u001b[0m\u001b[0mimshow\u001b[0m\u001b[0;34m(\u001b[0m\u001b[0mconf\u001b[0m\u001b[0;34m,\u001b[0m \u001b[0minterpolation\u001b[0m\u001b[0;34m=\u001b[0m\u001b[0;34m'nearest'\u001b[0m\u001b[0;34m,\u001b[0m \u001b[0mcmap\u001b[0m\u001b[0;34m=\u001b[0m\u001b[0mplt\u001b[0m\u001b[0;34m.\u001b[0m\u001b[0mcm\u001b[0m\u001b[0;34m.\u001b[0m\u001b[0mGreens\u001b[0m\u001b[0;34m)\u001b[0m\u001b[0;34m\u001b[0m\u001b[0;34m\u001b[0m\u001b[0m\n\u001b[0m\u001b[1;32m      4\u001b[0m \u001b[0mplt\u001b[0m\u001b[0;34m.\u001b[0m\u001b[0mtitle\u001b[0m\u001b[0;34m(\u001b[0m\u001b[0;34m\"Confusion Matrix\"\u001b[0m\u001b[0;34m)\u001b[0m\u001b[0;34m\u001b[0m\u001b[0;34m\u001b[0m\u001b[0m\n\u001b[1;32m      5\u001b[0m \u001b[0mplt\u001b[0m\u001b[0;34m.\u001b[0m\u001b[0mcolorbar\u001b[0m\u001b[0;34m(\u001b[0m\u001b[0;34m)\u001b[0m\u001b[0;34m\u001b[0m\u001b[0;34m\u001b[0m\u001b[0m\n",
            "\u001b[0;32m/usr/local/lib/python3.7/dist-packages/matplotlib/pyplot.py\u001b[0m in \u001b[0;36mimshow\u001b[0;34m(X, cmap, norm, aspect, interpolation, alpha, vmin, vmax, origin, extent, shape, filternorm, filterrad, imlim, resample, url, data, **kwargs)\u001b[0m\n\u001b[1;32m   2649\u001b[0m         \u001b[0mfilternorm\u001b[0m\u001b[0;34m=\u001b[0m\u001b[0mfilternorm\u001b[0m\u001b[0;34m,\u001b[0m \u001b[0mfilterrad\u001b[0m\u001b[0;34m=\u001b[0m\u001b[0mfilterrad\u001b[0m\u001b[0;34m,\u001b[0m \u001b[0mimlim\u001b[0m\u001b[0;34m=\u001b[0m\u001b[0mimlim\u001b[0m\u001b[0;34m,\u001b[0m\u001b[0;34m\u001b[0m\u001b[0;34m\u001b[0m\u001b[0m\n\u001b[1;32m   2650\u001b[0m         resample=resample, url=url, **({\"data\": data} if data is not\n\u001b[0;32m-> 2651\u001b[0;31m         None else {}), **kwargs)\n\u001b[0m\u001b[1;32m   2652\u001b[0m     \u001b[0msci\u001b[0m\u001b[0;34m(\u001b[0m\u001b[0m__ret\u001b[0m\u001b[0;34m)\u001b[0m\u001b[0;34m\u001b[0m\u001b[0;34m\u001b[0m\u001b[0m\n\u001b[1;32m   2653\u001b[0m     \u001b[0;32mreturn\u001b[0m \u001b[0m__ret\u001b[0m\u001b[0;34m\u001b[0m\u001b[0;34m\u001b[0m\u001b[0m\n",
            "\u001b[0;32m/usr/local/lib/python3.7/dist-packages/matplotlib/__init__.py\u001b[0m in \u001b[0;36minner\u001b[0;34m(ax, data, *args, **kwargs)\u001b[0m\n\u001b[1;32m   1563\u001b[0m     \u001b[0;32mdef\u001b[0m \u001b[0minner\u001b[0m\u001b[0;34m(\u001b[0m\u001b[0max\u001b[0m\u001b[0;34m,\u001b[0m \u001b[0;34m*\u001b[0m\u001b[0margs\u001b[0m\u001b[0;34m,\u001b[0m \u001b[0mdata\u001b[0m\u001b[0;34m=\u001b[0m\u001b[0;32mNone\u001b[0m\u001b[0;34m,\u001b[0m \u001b[0;34m**\u001b[0m\u001b[0mkwargs\u001b[0m\u001b[0;34m)\u001b[0m\u001b[0;34m:\u001b[0m\u001b[0;34m\u001b[0m\u001b[0;34m\u001b[0m\u001b[0m\n\u001b[1;32m   1564\u001b[0m         \u001b[0;32mif\u001b[0m \u001b[0mdata\u001b[0m \u001b[0;32mis\u001b[0m \u001b[0;32mNone\u001b[0m\u001b[0;34m:\u001b[0m\u001b[0;34m\u001b[0m\u001b[0;34m\u001b[0m\u001b[0m\n\u001b[0;32m-> 1565\u001b[0;31m             \u001b[0;32mreturn\u001b[0m \u001b[0mfunc\u001b[0m\u001b[0;34m(\u001b[0m\u001b[0max\u001b[0m\u001b[0;34m,\u001b[0m \u001b[0;34m*\u001b[0m\u001b[0mmap\u001b[0m\u001b[0;34m(\u001b[0m\u001b[0msanitize_sequence\u001b[0m\u001b[0;34m,\u001b[0m \u001b[0margs\u001b[0m\u001b[0;34m)\u001b[0m\u001b[0;34m,\u001b[0m \u001b[0;34m**\u001b[0m\u001b[0mkwargs\u001b[0m\u001b[0;34m)\u001b[0m\u001b[0;34m\u001b[0m\u001b[0;34m\u001b[0m\u001b[0m\n\u001b[0m\u001b[1;32m   1566\u001b[0m \u001b[0;34m\u001b[0m\u001b[0m\n\u001b[1;32m   1567\u001b[0m         \u001b[0mbound\u001b[0m \u001b[0;34m=\u001b[0m \u001b[0mnew_sig\u001b[0m\u001b[0;34m.\u001b[0m\u001b[0mbind\u001b[0m\u001b[0;34m(\u001b[0m\u001b[0max\u001b[0m\u001b[0;34m,\u001b[0m \u001b[0;34m*\u001b[0m\u001b[0margs\u001b[0m\u001b[0;34m,\u001b[0m \u001b[0;34m**\u001b[0m\u001b[0mkwargs\u001b[0m\u001b[0;34m)\u001b[0m\u001b[0;34m\u001b[0m\u001b[0;34m\u001b[0m\u001b[0m\n",
            "\u001b[0;32m/usr/local/lib/python3.7/dist-packages/matplotlib/cbook/deprecation.py\u001b[0m in \u001b[0;36mwrapper\u001b[0;34m(*args, **kwargs)\u001b[0m\n\u001b[1;32m    356\u001b[0m                 \u001b[0;34mf\"%(removal)s.  If any parameter follows {name!r}, they \"\u001b[0m\u001b[0;34m\u001b[0m\u001b[0;34m\u001b[0m\u001b[0m\n\u001b[1;32m    357\u001b[0m                 f\"should be pass as keyword, not positionally.\")\n\u001b[0;32m--> 358\u001b[0;31m         \u001b[0;32mreturn\u001b[0m \u001b[0mfunc\u001b[0m\u001b[0;34m(\u001b[0m\u001b[0;34m*\u001b[0m\u001b[0margs\u001b[0m\u001b[0;34m,\u001b[0m \u001b[0;34m**\u001b[0m\u001b[0mkwargs\u001b[0m\u001b[0;34m)\u001b[0m\u001b[0;34m\u001b[0m\u001b[0;34m\u001b[0m\u001b[0m\n\u001b[0m\u001b[1;32m    359\u001b[0m \u001b[0;34m\u001b[0m\u001b[0m\n\u001b[1;32m    360\u001b[0m     \u001b[0;32mreturn\u001b[0m \u001b[0mwrapper\u001b[0m\u001b[0;34m\u001b[0m\u001b[0;34m\u001b[0m\u001b[0m\n",
            "\u001b[0;32m/usr/local/lib/python3.7/dist-packages/matplotlib/cbook/deprecation.py\u001b[0m in \u001b[0;36mwrapper\u001b[0;34m(*args, **kwargs)\u001b[0m\n\u001b[1;32m    356\u001b[0m                 \u001b[0;34mf\"%(removal)s.  If any parameter follows {name!r}, they \"\u001b[0m\u001b[0;34m\u001b[0m\u001b[0;34m\u001b[0m\u001b[0m\n\u001b[1;32m    357\u001b[0m                 f\"should be pass as keyword, not positionally.\")\n\u001b[0;32m--> 358\u001b[0;31m         \u001b[0;32mreturn\u001b[0m \u001b[0mfunc\u001b[0m\u001b[0;34m(\u001b[0m\u001b[0;34m*\u001b[0m\u001b[0margs\u001b[0m\u001b[0;34m,\u001b[0m \u001b[0;34m**\u001b[0m\u001b[0mkwargs\u001b[0m\u001b[0;34m)\u001b[0m\u001b[0;34m\u001b[0m\u001b[0;34m\u001b[0m\u001b[0m\n\u001b[0m\u001b[1;32m    359\u001b[0m \u001b[0;34m\u001b[0m\u001b[0m\n\u001b[1;32m    360\u001b[0m     \u001b[0;32mreturn\u001b[0m \u001b[0mwrapper\u001b[0m\u001b[0;34m\u001b[0m\u001b[0;34m\u001b[0m\u001b[0m\n",
            "\u001b[0;32m/usr/local/lib/python3.7/dist-packages/matplotlib/axes/_axes.py\u001b[0m in \u001b[0;36mimshow\u001b[0;34m(self, X, cmap, norm, aspect, interpolation, alpha, vmin, vmax, origin, extent, shape, filternorm, filterrad, imlim, resample, url, **kwargs)\u001b[0m\n\u001b[1;32m   5624\u001b[0m                               resample=resample, **kwargs)\n\u001b[1;32m   5625\u001b[0m \u001b[0;34m\u001b[0m\u001b[0m\n\u001b[0;32m-> 5626\u001b[0;31m         \u001b[0mim\u001b[0m\u001b[0;34m.\u001b[0m\u001b[0mset_data\u001b[0m\u001b[0;34m(\u001b[0m\u001b[0mX\u001b[0m\u001b[0;34m)\u001b[0m\u001b[0;34m\u001b[0m\u001b[0;34m\u001b[0m\u001b[0m\n\u001b[0m\u001b[1;32m   5627\u001b[0m         \u001b[0mim\u001b[0m\u001b[0;34m.\u001b[0m\u001b[0mset_alpha\u001b[0m\u001b[0;34m(\u001b[0m\u001b[0malpha\u001b[0m\u001b[0;34m)\u001b[0m\u001b[0;34m\u001b[0m\u001b[0;34m\u001b[0m\u001b[0m\n\u001b[1;32m   5628\u001b[0m         \u001b[0;32mif\u001b[0m \u001b[0mim\u001b[0m\u001b[0;34m.\u001b[0m\u001b[0mget_clip_path\u001b[0m\u001b[0;34m(\u001b[0m\u001b[0;34m)\u001b[0m \u001b[0;32mis\u001b[0m \u001b[0;32mNone\u001b[0m\u001b[0;34m:\u001b[0m\u001b[0;34m\u001b[0m\u001b[0;34m\u001b[0m\u001b[0m\n",
            "\u001b[0;32m/usr/local/lib/python3.7/dist-packages/matplotlib/image.py\u001b[0m in \u001b[0;36mset_data\u001b[0;34m(self, A)\u001b[0m\n\u001b[1;32m    697\u001b[0m                 or self._A.ndim == 3 and self._A.shape[-1] in [3, 4]):\n\u001b[1;32m    698\u001b[0m             raise TypeError(\"Invalid shape {} for image data\"\n\u001b[0;32m--> 699\u001b[0;31m                             .format(self._A.shape))\n\u001b[0m\u001b[1;32m    700\u001b[0m \u001b[0;34m\u001b[0m\u001b[0m\n\u001b[1;32m    701\u001b[0m         \u001b[0;32mif\u001b[0m \u001b[0mself\u001b[0m\u001b[0;34m.\u001b[0m\u001b[0m_A\u001b[0m\u001b[0;34m.\u001b[0m\u001b[0mndim\u001b[0m \u001b[0;34m==\u001b[0m \u001b[0;36m3\u001b[0m\u001b[0;34m:\u001b[0m\u001b[0;34m\u001b[0m\u001b[0;34m\u001b[0m\u001b[0m\n",
            "\u001b[0;31mTypeError\u001b[0m: Invalid shape () for image data"
          ]
        },
        {
          "output_type": "display_data",
          "data": {
            "text/plain": [
              "<Figure size 432x288 with 1 Axes>"
            ],
            "image/png": "[encoded data removed]"
          },
          "metadata": {
            "needs_background": "light"
          }
        }
      ],
      "source": [
        "classes = [0,1,2]\n",
        "# plot confusion matrix\n",
        "plt.imshow(conf, interpolation='nearest', cmap=plt.cm.Greens)\n",
        "plt.title(\"Confusion Matrix\")\n",
        "plt.colorbar()\n",
        "tick_marks = np.arange(len(classes))\n",
        "plt.xticks(tick_marks, classes)\n",
        "plt.yticks(tick_marks, classes)\n",
        "\n",
        "fmt = 'd'\n",
        "thresh = conf.max() / 2.\n",
        "for i, j in itertools.product(range(conf.shape[0]), range(conf.shape[1])):\n",
        "    plt.text(j, i, format(conf[i, j], fmt),\n",
        "             horizontalalignment=\"center\",\n",
        "             color=\"white\" if conf[i, j] > thresh else \"black\")\n",
        "\n",
        "plt.tight_layout()\n",
        "plt.ylabel('True label')\n",
        "plt.xlabel('Predicted label')"
      ]
    },
    {
      "cell_type": "markdown",
      "metadata": {
        "id": "527NZEU5ePbW"
      },
      "source": [
        "**WordCloud**"
      ]
    },
    {
      "cell_type": "code",
      "execution_count": null,
      "metadata": {
        "id": "C5zUiFUigkR5"
      },
      "outputs": [],
      "source": [
        "from wordcloud import WordCloud\n",
        "import matplotlib.pyplot as plt\n"
      ]
    },
    {
      "cell_type": "code",
      "execution_count": null,
      "metadata": {
        "id": "SilVESE_fSpB"
      },
      "outputs": [],
      "source": [
        "hatred_words = ' '.join(dfuji[dfuji.label == \"negatif\"].Teksbersih.values)\n",
        "non_hatred_words = ' '.join(dfuji[dfuji.label == \"positif\"].Teksbersih.values)\n",
        "netral = ' '.join(dfuji[dfuji.label == \"netral\"].Teksbersih.values)"
      ]
    },
    {
      "cell_type": "code",
      "execution_count": null,
      "metadata": {
        "id": "xj93NMbFhEJI"
      },
      "outputs": [],
      "source": [
        "plt.figure(figsize=(20, 8))\n",
        "\n",
        "cloud1 = WordCloud(max_font_size=50, max_words=100, background_color='white').generate(non_hatred_words)\n",
        "plt.subplot(131)\n",
        "plt.imshow(cloud1, interpolation=\"bilinear\")\n",
        "plt.axis(\"off\")\n",
        "plt.title('Positive', size=20)\n",
        "\n",
        "cloud2 = WordCloud(max_font_size=50, max_words=100, background_color='white').generate(hatred_words)\n",
        "plt.subplot(132)\n",
        "plt.imshow(cloud2, interpolation=\"bilinear\")\n",
        "plt.axis(\"off\")\n",
        "plt.title('Negative', size=20)\n",
        "\n",
        "cloud3 = WordCloud(max_font_size=50, max_words=100, background_color='white').generate(netral)\n",
        "plt.subplot(133)\n",
        "plt.imshow(cloud3, interpolation=\"bilinear\")\n",
        "plt.axis(\"off\")\n",
        "plt.title('Neutral', size=20)\n",
        "\n",
        "plt.show()"
      ]
    },
    {
      "cell_type": "markdown",
      "metadata": {
        "id": "IA2wGTbBda3A"
      },
      "source": [
        "**Word Cloud**"
      ]
    },
    {
      "cell_type": "code",
      "execution_count": null,
      "metadata": {
        "id": "BGxgXyS-KxZn"
      },
      "outputs": [],
      "source": [
        "hatred_words = ' '.join(dfpred[dfpred.labelhasil == \"negatif\"].teksbersih.values)\n",
        "non_hatred_words = ' '.join(dfpred[dfpred.labelhasil == \"positif\"].teksbersih.values)\n",
        "netral = ' '.join(dfpred[dfpred.labelhasil == \"netral\"].teksbersih.values)"
      ]
    },
    {
      "cell_type": "code",
      "execution_count": null,
      "metadata": {
        "id": "wqRpsKQ7hovX"
      },
      "outputs": [],
      "source": [
        "plt.figure(figsize=(20, 8))\n",
        "\n",
        "cloud1 = WordCloud(max_font_size=50, max_words=100, background_color='white').generate(non_hatred_words)\n",
        "plt.subplot(131)\n",
        "plt.imshow(cloud1, interpolation=\"bilinear\")\n",
        "plt.axis(\"off\")\n",
        "plt.title('Positive', size=20)\n",
        "\n",
        "cloud2 = WordCloud(max_font_size=50, max_words=100, background_color='white').generate(hatred_words)\n",
        "plt.subplot(132)\n",
        "plt.imshow(cloud2, interpolation=\"bilinear\")\n",
        "plt.axis(\"off\")\n",
        "plt.title('Negative', size=20)\n",
        "\n",
        "cloud3 = WordCloud(max_font_size=50, max_words=100, background_color='white').generate(netral)\n",
        "plt.subplot(133)\n",
        "plt.imshow(cloud3, interpolation=\"bilinear\")\n",
        "plt.axis(\"off\")\n",
        "plt.title('Neutral', size=20)\n",
        "\n",
        "plt.show()"
      ]
    }
  ],
  "metadata": {
    "colab": {
      "provenance": []
    },
    "kernelspec": {
      "display_name": "Python 3",
      "name": "python3"
    },
    "language_info": {
      "name": "python"
    }
  },
  "nbformat": 4,
  "nbformat_minor": 0
}